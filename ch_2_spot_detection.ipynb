{
 "cells": [
  {
   "attachments": {},
   "cell_type": "markdown",
   "metadata": {},
   "source": [
    "Spot detection: part 1"
   ]
  },
  {
   "attachments": {},
   "cell_type": "markdown",
   "metadata": {},
   "source": [
    "Data: [OpticalPooledScreens github repository](https://github.com/feldman4/OpticalPooledScreens)."
   ]
  },
  {
   "cell_type": "code",
   "execution_count": 7,
   "metadata": {},
   "outputs": [],
   "source": [
    "# load data\n",
    "\n",
    "from skimage import io \n",
    "\n",
    "nuclei_url = 'https://raw.githubusercontent.com/kevinyamauchi/napari-spot-detection-tutorial/main/data/nuclei_cropped.tif'\n",
    "nuclei = io.imread(nuclei_url)\n",
    "\n",
    "spots_url = 'https://raw.githubusercontent.com/kevinyamauchi/napari-spot-detection-tutorial/main/data/spots_cropped.tif'\n",
    "spots = io.imread(spots_url)"
   ]
  },
  {
   "cell_type": "code",
   "execution_count": 8,
   "metadata": {},
   "outputs": [],
   "source": [
    "import napari\n",
    "\n",
    "# create the napari viewer\n",
    "viewer = napari.Viewer();\n",
    "\n",
    "# add the nuclei image to the viewer\n",
    "viewer.add_image(nuclei);\n"
   ]
  },
  {
   "cell_type": "code",
   "execution_count": 9,
   "metadata": {},
   "outputs": [
    {
     "data": {
      "text/plain": [
       "<Image layer 'spots' at 0x29d75f79220>"
      ]
     },
     "execution_count": 9,
     "metadata": {},
     "output_type": "execute_result"
    }
   ],
   "source": [
    "# add spots to viewer\n",
    "\n",
    "viewer.add_image(spots)"
   ]
  },
  {
   "attachments": {},
   "cell_type": "markdown",
   "metadata": {},
   "source": [
    "Create an image filter\n",
    "- spots image background/autofl from the cells\n",
    "- high pass filter to improve contrast of spots\n"
   ]
  },
  {
   "cell_type": "code",
   "execution_count": 10,
   "metadata": {},
   "outputs": [],
   "source": [
    "import numpy as np \n",
    "from scipy import ndimage as ndi \n",
    "\n",
    "def gaussian_high_pass(image: np.ndarray, sigma: float =2):\n",
    "    \"\"\"Apply a gaussian high pass filter to an image.\n",
    "    \n",
    "    Pramaters\n",
    "    ----------\n",
    "    image: np.ndarray\n",
    "        The image to be filtered\n",
    "    sigma: float\n",
    "        The sigma (width) of the gaussian filter to be applied\n",
    "        Default value = 2 \n",
    "        \n",
    "    Returns\n",
    "    ---------\n",
    "    high_passed_im : np.ndarray\n",
    "        The image with high pass filter applied\n",
    "    \"\"\"\n",
    "\n",
    "    low_pass = ndi.gaussian_filter(image, sigma)\n",
    "    high_passed_img = image - low_pass\n",
    "\n",
    "    return high_passed_img"
   ]
  },
  {
   "cell_type": "code",
   "execution_count": 11,
   "metadata": {},
   "outputs": [
    {
     "data": {
      "text/plain": [
       "<Image layer 'filtered_spots' at 0x29d73a27040>"
      ]
     },
     "execution_count": 11,
     "metadata": {},
     "output_type": "execute_result"
    }
   ],
   "source": [
    "# apply gaussian_high_pass function to filter the spots image\n",
    "\n",
    "filtered_spots = gaussian_high_pass(spots, 2)\n",
    "\n",
    "# add to layer\n",
    "\n",
    "viewer.add_image(filtered_spots)"
   ]
  },
  {
   "attachments": {},
   "cell_type": "markdown",
   "metadata": {},
   "source": [
    "Detect Spots"
   ]
  },
  {
   "cell_type": "code",
   "execution_count": 12,
   "metadata": {},
   "outputs": [],
   "source": [
    "import numpy as np \n",
    "from skimage.feature import blob_log\n",
    "\n",
    "def detect_spots(\n",
    "    image: np.ndarray,\n",
    "    high_pass_sigma: float = 2,\n",
    "    spot_threshold: float = 0.01,\n",
    "    blob_sigma: float = 2\n",
    "\n",
    "): \n",
    "\n",
    "    \"\"\"Apply a gaussian high pass to image\n",
    "\n",
    "    Paramaters\n",
    "    -----------\n",
    "    \n",
    "    image: np.ndarray\n",
    "        The image to detect spots.\n",
    "        \n",
    "    high_pass_sigma: float\n",
    "        Sigma width of gaussian filter to be applied\n",
    "        Default value is 2\n",
    "    spot_threshold: float\n",
    "        The threshold to be passed by blob detector\n",
    "        Default value is 0.01\n",
    "    blob_sigma: float\n",
    "        The expected sigma (width) of spots. \n",
    "        This parameter is passed to the 'max_sigma' parameter of the blob detector\n",
    "        \n",
    "    Returns\n",
    "    --------\n",
    "    points_coords: np.ndarray\n",
    "        An NxD array with coordinate for each detected spot\n",
    "        N is number of spots\n",
    "        D is the number of dimensions\n",
    "    sizes: np.ndarray\n",
    "        An array of size N, where N is the number of detected spots\n",
    "        with the diameter of each spot.\n",
    "        \n",
    "    \"\"\"\n",
    "\n",
    "    # filter the image with the gaussian_high_pass filter\n",
    "    filtered_spots = gaussian_high_pass(image, high_pass_sigma)\n",
    "\n",
    "    # detect spots on filtered image\n",
    "    detected_blobs = blob_log(\n",
    "        filtered_spots,\n",
    "        max_sigma=blob_sigma,\n",
    "        num_sigma=1,\n",
    "        threshold=spot_threshold\n",
    "\n",
    "    )\n",
    "\n",
    "    # Convert output of blob detector to desired \n",
    "    # points_coords and sizes arrays\n",
    "\n",
    "    points_coords = detected_blobs[:, 0:2]\n",
    "    sizes = 3 * detected_blobs[:, 2]\n",
    "\n",
    "    return points_coords, sizes"
   ]
  },
  {
   "cell_type": "code",
   "execution_count": 14,
   "metadata": {},
   "outputs": [],
   "source": [
    "# detect spots\n",
    "\n",
    "spot_coords, spot_sizes = detect_spots(\n",
    "    spots,\n",
    "    high_pass_sigma=2,\n",
    "    spot_threshold=0.01,\n",
    "    blob_sigma=2\n",
    ")"
   ]
  },
  {
   "cell_type": "code",
   "execution_count": 16,
   "metadata": {},
   "outputs": [
    {
     "data": {
      "text/plain": [
       "<bound method add_shapes of Viewer(axes=Axes(visible=False, labels=True, colored=True, dashed=False, arrows=True), camera=Camera(center=(0.0, 245.5, 246.5), zoom=1.5485772357723575, angles=(0.0, 0.0, 90.0), perspective=0.0, interactive=True), cursor=Cursor(position=(273.2674312667802, 177.40432366745708), scaled=True, size=1, style=<CursorStyle.STANDARD: 'standard'>), dims=Dims(ndim=2, ndisplay=2, last_used=0, range=((0.0, 492.0, 1.0), (0.0, 494.0, 1.0)), current_step=(246, 247), order=(0, 1), axis_labels=('0', '1')), grid=GridCanvas(stride=1, shape=(-1, -1), enabled=False), layers=[<Image layer 'nuclei' at 0x29d5f900f10>, <Image layer 'spots' at 0x29d75f79220>, <Image layer 'filtered_spots' at 0x29d73a27040>, <Points layer 'spot_coords' at 0x29d73f6e190>], scale_bar=ScaleBar(visible=False, colored=False, ticks=True, position=<Position.BOTTOM_RIGHT: 'bottom_right'>, font_size=10, unit=None), text_overlay=TextOverlay(visible=False, color=(0.5, 0.5, 0.5, 1.0), font_size=10, position=<TextOverlayPosition.TOP_LEFT: 'top_left'>, text=''), overlays=Overlays(interaction_box=InteractionBox(points=None, show=False, show_handle=False, show_vertices=False, selection_box_drag=None, selection_box_final=None, transform_start=<napari.utils.transforms.transforms.Affine object at 0x0000029D676823D0>, transform_drag=<napari.utils.transforms.transforms.Affine object at 0x0000029D67682430>, transform_final=<napari.utils.transforms.transforms.Affine object at 0x0000029D67682490>, transform=<napari.utils.transforms.transforms.Affine object at 0x0000029D676824F0>, allow_new_selection=True, selected_vertex=None)), help='', status='filtered_spots [273 177]: -0.00587', tooltip=Tooltip(visible=False, text=''), theme='dark', title='napari', mouse_move_callbacks=[<function InteractionBoxMouseBindings.initialize_mouse_events.<locals>.mouse_move at 0x0000029D6AF50160>], mouse_drag_callbacks=[<function InteractionBoxMouseBindings.initialize_mouse_events.<locals>.mouse_drag at 0x0000029D6AF3CF70>], mouse_double_click_callbacks=[], mouse_wheel_callbacks=[<function dims_scroll at 0x0000029D675CDDC0>], _persisted_mouse_event={}, _mouse_drag_gen={}, _mouse_wheel_gen={}, keymap={'Shift': <function InteractionBoxMouseBindings.initialize_key_events.<locals>.hold_to_lock_aspect_ratio at 0x0000029D6AF3CAF0>, 'Control-Shift-R': <function InteractionBoxMouseBindings._reset_active_layer_affine at 0x0000029D6AEC4700>, 'Control-Shift-A': <function InteractionBoxMouseBindings._transform_active_layer at 0x0000029D6AEC4280>})>"
      ]
     },
     "execution_count": 16,
     "metadata": {},
     "output_type": "execute_result"
    }
   ],
   "source": [
    "# add detected spots to the viewer as a point layer\n",
    "viewer.add_points(\n",
    "    spot_coords,\n",
    "    size=spot_sizes,\n",
    "    opacity=0.5\n",
    ")\n",
    "\n",
    "viewer.add_shapes"
   ]
  },
  {
   "cell_type": "code",
   "execution_count": null,
   "metadata": {},
   "outputs": [],
   "source": []
  }
 ],
 "metadata": {
  "kernelspec": {
   "display_name": "Python 3",
   "language": "python",
   "name": "python3"
  },
  "language_info": {
   "codemirror_mode": {
    "name": "ipython",
    "version": 3
   },
   "file_extension": ".py",
   "mimetype": "text/x-python",
   "name": "python",
   "nbconvert_exporter": "python",
   "pygments_lexer": "ipython3",
   "version": "3.9.15"
  },
  "orig_nbformat": 4,
  "vscode": {
   "interpreter": {
    "hash": "321de78410d1ea83c65ddc6d45b638e283ad53fc7d00499c6c3691f32ef53ede"
   }
  }
 },
 "nbformat": 4,
 "nbformat_minor": 2
}
